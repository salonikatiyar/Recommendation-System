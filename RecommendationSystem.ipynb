{
 "cells": [
  {
   "cell_type": "markdown",
   "metadata": {},
   "source": [
    "### Importing Modules"
   ]
  },
  {
   "cell_type": "code",
   "execution_count": 1,
   "metadata": {},
   "outputs": [],
   "source": [
    "import pandas as pd\n",
    "import autocomplete\n",
    "import datetime\n",
    "import seaborn as sns\n",
    "import matplotlib.pyplot as plt\n",
    "import warnings\n",
    "warnings.simplefilter('ignore')\n",
    "import math"
   ]
  },
  {
   "cell_type": "code",
   "execution_count": 62,
   "metadata": {},
   "outputs": [],
   "source": [
    "# User Defined function\n",
    "def filtr(lst,itemid):\n",
    "    if len(lst)==0:\n",
    "        pass\n",
    "    elif len(lst)>1 or len(lst)==1:\n",
    "        lst.remove(itemid)\n",
    "    return lst\n",
    "\n",
    "def recommenditems(itemid):\n",
    "    recommendation={}\n",
    "    for i in visitor_bought_df['itemid']:\n",
    "        if itemid in i:\n",
    "            item_list_bought=[j for j in i]\n",
    "\n",
    "    also_bought=list(set(item_list_bought))\n",
    "    also_bought= filtr(also_bought,itemid)\n",
    "    for i in category_df['itemid']:\n",
    "        if itemid in i:\n",
    "            item_list_cat=[j for j in i]\n",
    "        \n",
    "    same_category=list(set(item_list_cat))\n",
    "    same_category=filtr(same_category,itemid)\n",
    "    recommendation['also_bought']=also_bought\n",
    "    recommendation['same_category']=same_category\n",
    "    return recommendation"
   ]
  },
  {
   "cell_type": "markdown",
   "metadata": {},
   "source": [
    "### Loading Data"
   ]
  },
  {
   "cell_type": "code",
   "execution_count": 33,
   "metadata": {},
   "outputs": [],
   "source": [
    "dataset1= pd.read_csv(\"item_properties_part1.csv\")\n",
    "dataset2= pd.read_csv(\"item_properties_part2.csv\")\n",
    "itemproperties = pd.concat([dataset1,dataset2],ignore_index=True, sort =False)\n",
    "events = pd.read_csv(\"events.csv\")"
   ]
  },
  {
   "cell_type": "markdown",
   "metadata": {},
   "source": [
    "### Exploratory Data Analysis"
   ]
  },
  {
   "cell_type": "code",
   "execution_count": 8,
   "metadata": {},
   "outputs": [
    {
     "data": {
      "text/html": [
       "<div>\n",
       "<style scoped>\n",
       "    .dataframe tbody tr th:only-of-type {\n",
       "        vertical-align: middle;\n",
       "    }\n",
       "\n",
       "    .dataframe tbody tr th {\n",
       "        vertical-align: top;\n",
       "    }\n",
       "\n",
       "    .dataframe thead th {\n",
       "        text-align: right;\n",
       "    }\n",
       "</style>\n",
       "<table border=\"1\" class=\"dataframe\">\n",
       "  <thead>\n",
       "    <tr style=\"text-align: right;\">\n",
       "      <th></th>\n",
       "      <th>timestamp</th>\n",
       "      <th>visitorid</th>\n",
       "      <th>event</th>\n",
       "      <th>itemid</th>\n",
       "      <th>transactionid</th>\n",
       "    </tr>\n",
       "  </thead>\n",
       "  <tbody>\n",
       "    <tr>\n",
       "      <th>0</th>\n",
       "      <td>1433221332117</td>\n",
       "      <td>257597</td>\n",
       "      <td>view</td>\n",
       "      <td>355908</td>\n",
       "      <td>NaN</td>\n",
       "    </tr>\n",
       "    <tr>\n",
       "      <th>1</th>\n",
       "      <td>1433224214164</td>\n",
       "      <td>992329</td>\n",
       "      <td>view</td>\n",
       "      <td>248676</td>\n",
       "      <td>NaN</td>\n",
       "    </tr>\n",
       "    <tr>\n",
       "      <th>2</th>\n",
       "      <td>1433221999827</td>\n",
       "      <td>111016</td>\n",
       "      <td>view</td>\n",
       "      <td>318965</td>\n",
       "      <td>NaN</td>\n",
       "    </tr>\n",
       "    <tr>\n",
       "      <th>3</th>\n",
       "      <td>1433221955914</td>\n",
       "      <td>483717</td>\n",
       "      <td>view</td>\n",
       "      <td>253185</td>\n",
       "      <td>NaN</td>\n",
       "    </tr>\n",
       "    <tr>\n",
       "      <th>4</th>\n",
       "      <td>1433221337106</td>\n",
       "      <td>951259</td>\n",
       "      <td>view</td>\n",
       "      <td>367447</td>\n",
       "      <td>NaN</td>\n",
       "    </tr>\n",
       "  </tbody>\n",
       "</table>\n",
       "</div>"
      ],
      "text/plain": [
       "       timestamp  visitorid event  itemid  transactionid\n",
       "0  1433221332117     257597  view  355908            NaN\n",
       "1  1433224214164     992329  view  248676            NaN\n",
       "2  1433221999827     111016  view  318965            NaN\n",
       "3  1433221955914     483717  view  253185            NaN\n",
       "4  1433221337106     951259  view  367447            NaN"
      ]
     },
     "execution_count": 8,
     "metadata": {},
     "output_type": "execute_result"
    }
   ],
   "source": [
    "events.head()"
   ]
  },
  {
   "cell_type": "code",
   "execution_count": 11,
   "metadata": {},
   "outputs": [
    {
     "data": {
      "text/html": [
       "<div>\n",
       "<style scoped>\n",
       "    .dataframe tbody tr th:only-of-type {\n",
       "        vertical-align: middle;\n",
       "    }\n",
       "\n",
       "    .dataframe tbody tr th {\n",
       "        vertical-align: top;\n",
       "    }\n",
       "\n",
       "    .dataframe thead th {\n",
       "        text-align: right;\n",
       "    }\n",
       "</style>\n",
       "<table border=\"1\" class=\"dataframe\">\n",
       "  <thead>\n",
       "    <tr style=\"text-align: right;\">\n",
       "      <th></th>\n",
       "      <th>timestamp</th>\n",
       "      <th>itemid</th>\n",
       "      <th>property</th>\n",
       "      <th>value</th>\n",
       "    </tr>\n",
       "  </thead>\n",
       "  <tbody>\n",
       "    <tr>\n",
       "      <th>0</th>\n",
       "      <td>1435460400000</td>\n",
       "      <td>460429</td>\n",
       "      <td>categoryid</td>\n",
       "      <td>1338</td>\n",
       "    </tr>\n",
       "    <tr>\n",
       "      <th>1</th>\n",
       "      <td>1441508400000</td>\n",
       "      <td>206783</td>\n",
       "      <td>888</td>\n",
       "      <td>1116713 960601 n277.200</td>\n",
       "    </tr>\n",
       "    <tr>\n",
       "      <th>2</th>\n",
       "      <td>1439089200000</td>\n",
       "      <td>395014</td>\n",
       "      <td>400</td>\n",
       "      <td>n552.000 639502 n720.000 424566</td>\n",
       "    </tr>\n",
       "    <tr>\n",
       "      <th>3</th>\n",
       "      <td>1431226800000</td>\n",
       "      <td>59481</td>\n",
       "      <td>790</td>\n",
       "      <td>n15360.000</td>\n",
       "    </tr>\n",
       "    <tr>\n",
       "      <th>4</th>\n",
       "      <td>1431831600000</td>\n",
       "      <td>156781</td>\n",
       "      <td>917</td>\n",
       "      <td>828513</td>\n",
       "    </tr>\n",
       "  </tbody>\n",
       "</table>\n",
       "</div>"
      ],
      "text/plain": [
       "       timestamp  itemid    property                            value\n",
       "0  1435460400000  460429  categoryid                             1338\n",
       "1  1441508400000  206783         888          1116713 960601 n277.200\n",
       "2  1439089200000  395014         400  n552.000 639502 n720.000 424566\n",
       "3  1431226800000   59481         790                       n15360.000\n",
       "4  1431831600000  156781         917                           828513"
      ]
     },
     "execution_count": 11,
     "metadata": {},
     "output_type": "execute_result"
    }
   ],
   "source": [
    "itemproperties.head()"
   ]
  },
  {
   "cell_type": "code",
   "execution_count": 10,
   "metadata": {},
   "outputs": [
    {
     "data": {
      "text/plain": [
       "((20275902, 4), (2756101, 5))"
      ]
     },
     "execution_count": 10,
     "metadata": {},
     "output_type": "execute_result"
    }
   ],
   "source": [
    "itemproperties.shape, events.shape"
   ]
  },
  {
   "cell_type": "code",
   "execution_count": 12,
   "metadata": {},
   "outputs": [
    {
     "name": "stdout",
     "output_type": "stream",
     "text": [
      "Out of 2756101 total visitors there are 1407580 unique visitors\n",
      "Out of 1407580 unique customers,there are 11719 customers who actually purchased atleast one item\n",
      "Number of customers who did not purchase anything 1395861\n",
      "         event  eventcounts\n",
      "0         view      2664312\n",
      "1    addtocart        69332\n",
      "2  transaction        22457\n"
     ]
    }
   ],
   "source": [
    "events['timestamp'] = pd.to_datetime(events.timestamp,unit='ms')\n",
    "events['timestamp'] = pd.to_datetime(events['timestamp']).dt.date\n",
    "events = events.sort_values(by='timestamp')\n",
    "\n",
    "\n",
    "uniquecustomers = events['visitorid'].unique()\n",
    "listofeventspurchased = events[events['transactionid'].notnull()] \n",
    "listofcustomerpurchased = events[events['transactionid'].notnull()].visitorid.unique() \n",
    "\n",
    "print(\"Out of\",events['visitorid'].size,\"total visitors there are\",uniquecustomers.size,\n",
    "      \"unique visitors\")\n",
    "\n",
    "print(\"Out of\",uniquecustomers.size,\"unique customers,there are\",listofcustomerpurchased.size,\n",
    "      \"customers who actually purchased atleast one item\")\n",
    "\n",
    "notpurchased = uniquecustomers.size - listofcustomerpurchased.size\n",
    "print(\"Number of customers who did not purchase anything\",notpurchased)\n",
    "\n",
    "overalleventcounts = events['event'].value_counts()\n",
    "overalleventcounts = overalleventcounts.to_frame()\n",
    "overalleventcounts.reset_index(level=0, inplace=True)\n",
    "overalleventcounts = overalleventcounts.rename(columns={'index':'event','event':'eventcounts'})\n",
    "overalleventcounts.to_csv('overalleventcounts.csv',index = False)\n",
    "print(overalleventcounts)"
   ]
  },
  {
   "cell_type": "code",
   "execution_count": 13,
   "metadata": {},
   "outputs": [
    {
     "data": {
      "text/plain": [
       "<Figure size 576x576 with 0 Axes>"
      ]
     },
     "execution_count": 13,
     "metadata": {},
     "output_type": "execute_result"
    },
    {
     "data": {
      "image/png": "[encoded data removed]",
      "text/plain": [
       "<Figure size 432x288 with 1 Axes>"
      ]
     },
     "metadata": {},
     "output_type": "display_data"
    },
    {
     "data": {
      "text/plain": [
       "<Figure size 576x576 with 0 Axes>"
      ]
     },
     "metadata": {},
     "output_type": "display_data"
    }
   ],
   "source": [
    "df_events=pd.DataFrame(events.event.value_counts()*100/len(events))\n",
    "plt.pie(df_events.values,labels=df_events.index)\n",
    "plt.figure(figsize=(8,8))"
   ]
  },
  {
   "cell_type": "code",
   "execution_count": 15,
   "metadata": {},
   "outputs": [
    {
     "data": {
      "text/html": [
       "<div>\n",
       "<style scoped>\n",
       "    .dataframe tbody tr th:only-of-type {\n",
       "        vertical-align: middle;\n",
       "    }\n",
       "\n",
       "    .dataframe tbody tr th {\n",
       "        vertical-align: top;\n",
       "    }\n",
       "\n",
       "    .dataframe thead th {\n",
       "        text-align: right;\n",
       "    }\n",
       "</style>\n",
       "<table border=\"1\" class=\"dataframe\">\n",
       "  <thead>\n",
       "    <tr style=\"text-align: right;\">\n",
       "      <th></th>\n",
       "      <th>timestamp</th>\n",
       "      <th>event</th>\n",
       "      <th>Eventcountsperday</th>\n",
       "    </tr>\n",
       "  </thead>\n",
       "  <tbody>\n",
       "    <tr>\n",
       "      <th>0</th>\n",
       "      <td>2015-05-03</td>\n",
       "      <td>addtocart</td>\n",
       "      <td>296</td>\n",
       "    </tr>\n",
       "    <tr>\n",
       "      <th>1</th>\n",
       "      <td>2015-05-03</td>\n",
       "      <td>transaction</td>\n",
       "      <td>83</td>\n",
       "    </tr>\n",
       "    <tr>\n",
       "      <th>2</th>\n",
       "      <td>2015-05-03</td>\n",
       "      <td>view</td>\n",
       "      <td>13304</td>\n",
       "    </tr>\n",
       "    <tr>\n",
       "      <th>3</th>\n",
       "      <td>2015-05-04</td>\n",
       "      <td>addtocart</td>\n",
       "      <td>579</td>\n",
       "    </tr>\n",
       "    <tr>\n",
       "      <th>4</th>\n",
       "      <td>2015-05-04</td>\n",
       "      <td>transaction</td>\n",
       "      <td>154</td>\n",
       "    </tr>\n",
       "    <tr>\n",
       "      <th>5</th>\n",
       "      <td>2015-05-04</td>\n",
       "      <td>view</td>\n",
       "      <td>18681</td>\n",
       "    </tr>\n",
       "    <tr>\n",
       "      <th>6</th>\n",
       "      <td>2015-05-05</td>\n",
       "      <td>addtocart</td>\n",
       "      <td>565</td>\n",
       "    </tr>\n",
       "    <tr>\n",
       "      <th>7</th>\n",
       "      <td>2015-05-05</td>\n",
       "      <td>transaction</td>\n",
       "      <td>225</td>\n",
       "    </tr>\n",
       "    <tr>\n",
       "      <th>8</th>\n",
       "      <td>2015-05-05</td>\n",
       "      <td>view</td>\n",
       "      <td>22225</td>\n",
       "    </tr>\n",
       "    <tr>\n",
       "      <th>9</th>\n",
       "      <td>2015-05-06</td>\n",
       "      <td>addtocart</td>\n",
       "      <td>647</td>\n",
       "    </tr>\n",
       "  </tbody>\n",
       "</table>\n",
       "</div>"
      ],
      "text/plain": [
       "    timestamp        event  Eventcountsperday\n",
       "0  2015-05-03    addtocart                296\n",
       "1  2015-05-03  transaction                 83\n",
       "2  2015-05-03         view              13304\n",
       "3  2015-05-04    addtocart                579\n",
       "4  2015-05-04  transaction                154\n",
       "5  2015-05-04         view              18681\n",
       "6  2015-05-05    addtocart                565\n",
       "7  2015-05-05  transaction                225\n",
       "8  2015-05-05         view              22225\n",
       "9  2015-05-06    addtocart                647"
      ]
     },
     "execution_count": 15,
     "metadata": {},
     "output_type": "execute_result"
    }
   ],
   "source": [
    "eventandtime = events.iloc[:,[0,2]]\n",
    "groupbyeventanddate = eventandtime.groupby(['timestamp', 'event']).size()\n",
    "groupbyeventanddate = groupbyeventanddate.to_frame()\n",
    "groupbyeventanddate = groupbyeventanddate.add_suffix('_Count').reset_index()\n",
    "groupbyeventanddate = groupbyeventanddate.rename(columns={'0_Count':'Eventcountsperday'})\n",
    "groupbyeventanddate.to_csv('eventcountsbydate.csv',index = False)\n",
    "groupbyeventanddate.head(10)"
   ]
  },
  {
   "cell_type": "code",
   "execution_count": 16,
   "metadata": {},
   "outputs": [
    {
     "data": {
      "text/html": [
       "<div>\n",
       "<style scoped>\n",
       "    .dataframe tbody tr th:only-of-type {\n",
       "        vertical-align: middle;\n",
       "    }\n",
       "\n",
       "    .dataframe tbody tr th {\n",
       "        vertical-align: top;\n",
       "    }\n",
       "\n",
       "    .dataframe thead th {\n",
       "        text-align: right;\n",
       "    }\n",
       "</style>\n",
       "<table border=\"1\" class=\"dataframe\">\n",
       "  <thead>\n",
       "    <tr style=\"text-align: right;\">\n",
       "      <th></th>\n",
       "      <th>timestamp</th>\n",
       "      <th>visitorid</th>\n",
       "      <th>event</th>\n",
       "      <th>Eventcounts/customer</th>\n",
       "    </tr>\n",
       "  </thead>\n",
       "  <tbody>\n",
       "    <tr>\n",
       "      <th>0</th>\n",
       "      <td>2015-05-03</td>\n",
       "      <td>12</td>\n",
       "      <td>view</td>\n",
       "      <td>1</td>\n",
       "    </tr>\n",
       "    <tr>\n",
       "      <th>1</th>\n",
       "      <td>2015-05-03</td>\n",
       "      <td>385</td>\n",
       "      <td>view</td>\n",
       "      <td>1</td>\n",
       "    </tr>\n",
       "    <tr>\n",
       "      <th>2</th>\n",
       "      <td>2015-05-03</td>\n",
       "      <td>1250</td>\n",
       "      <td>view</td>\n",
       "      <td>1</td>\n",
       "    </tr>\n",
       "    <tr>\n",
       "      <th>3</th>\n",
       "      <td>2015-05-03</td>\n",
       "      <td>1525</td>\n",
       "      <td>view</td>\n",
       "      <td>1</td>\n",
       "    </tr>\n",
       "    <tr>\n",
       "      <th>4</th>\n",
       "      <td>2015-05-03</td>\n",
       "      <td>1701</td>\n",
       "      <td>view</td>\n",
       "      <td>1</td>\n",
       "    </tr>\n",
       "    <tr>\n",
       "      <th>5</th>\n",
       "      <td>2015-05-03</td>\n",
       "      <td>1819</td>\n",
       "      <td>view</td>\n",
       "      <td>1</td>\n",
       "    </tr>\n",
       "    <tr>\n",
       "      <th>6</th>\n",
       "      <td>2015-05-03</td>\n",
       "      <td>2050</td>\n",
       "      <td>view</td>\n",
       "      <td>1</td>\n",
       "    </tr>\n",
       "    <tr>\n",
       "      <th>7</th>\n",
       "      <td>2015-05-03</td>\n",
       "      <td>2231</td>\n",
       "      <td>view</td>\n",
       "      <td>8</td>\n",
       "    </tr>\n",
       "    <tr>\n",
       "      <th>8</th>\n",
       "      <td>2015-05-03</td>\n",
       "      <td>2288</td>\n",
       "      <td>view</td>\n",
       "      <td>1</td>\n",
       "    </tr>\n",
       "    <tr>\n",
       "      <th>9</th>\n",
       "      <td>2015-05-03</td>\n",
       "      <td>2306</td>\n",
       "      <td>view</td>\n",
       "      <td>1</td>\n",
       "    </tr>\n",
       "  </tbody>\n",
       "</table>\n",
       "</div>"
      ],
      "text/plain": [
       "    timestamp  visitorid event  Eventcounts/customer\n",
       "0  2015-05-03         12  view                     1\n",
       "1  2015-05-03        385  view                     1\n",
       "2  2015-05-03       1250  view                     1\n",
       "3  2015-05-03       1525  view                     1\n",
       "4  2015-05-03       1701  view                     1\n",
       "5  2015-05-03       1819  view                     1\n",
       "6  2015-05-03       2050  view                     1\n",
       "7  2015-05-03       2231  view                     8\n",
       "8  2015-05-03       2288  view                     1\n",
       "9  2015-05-03       2306  view                     1"
      ]
     },
     "execution_count": 16,
     "metadata": {},
     "output_type": "execute_result"
    }
   ],
   "source": [
    "\n",
    "#groupby timestamp, visitor id and event\n",
    "eventtimecustomer = events.iloc[:,[0,1,2]]\n",
    "groupbyeventcustomerdate = eventtimecustomer.groupby(['timestamp', 'visitorid','event']).size()\n",
    "groupbyeventcustomerdate = groupbyeventcustomerdate.to_frame()\n",
    "groupbyeventcustomerdate = groupbyeventcustomerdate.add_suffix('').reset_index()\n",
    "groupbyeventcustomerdate = groupbyeventcustomerdate.rename(columns={'0':'Eventcounts/customer'})\n",
    "groupbyeventcustomerdate.head(10)"
   ]
  },
  {
   "cell_type": "code",
   "execution_count": 4,
   "metadata": {},
   "outputs": [
    {
     "name": "stdout",
     "output_type": "stream",
     "text": [
      "Total number of unique items: 417053\n",
      "Out of 788214 there are 417053 unique items\n"
     ]
    }
   ],
   "source": [
    "itempropertiescategorywise = itemproperties[itemproperties['property']=='categoryid']\n",
    "categoryfreq = itempropertiescategorywise.groupby('property')['itemid'].nunique()\n",
    "print(\"Total number of unique items:\",categoryfreq['categoryid'])\n",
    "print(\"Out of\",itempropertiescategorywise.itemid.size, \"there are\",categoryfreq['categoryid'],\"unique items\")\n",
    "categorywiseuniqueitems = pd.DataFrame(itempropertiescategorywise.groupby('value')['itemid'].apply(list))\n",
    "categorywiseuniqueitems.reset_index(level=0, inplace=True)\n",
    "catitems = {}\n",
    "for i in range(len(categorywiseuniqueitems)):\n",
    "    catitems[categorywiseuniqueitems['value'].iloc[i]] = categorywiseuniqueitems['itemid'][i]"
   ]
  },
  {
   "cell_type": "code",
   "execution_count": 17,
   "metadata": {},
   "outputs": [],
   "source": [
    "user={}\n",
    "repeatedusers = []\n",
    "            \n",
    "for i in range(len(listofeventspurchased)):\n",
    "    for key,value in catitems.items():\n",
    "        if listofeventspurchased['itemid'].iloc[i] in catitems[key]:\n",
    "            if listofeventspurchased['visitorid'].iloc[i] in repeatedusers:\n",
    "                user[listofeventspurchased['visitorid'].iloc[i]].append(key)\n",
    "                repeatedusers.append(listofeventspurchased['visitorid'].iloc[i])\n",
    "            else:\n",
    "                user[listofeventspurchased['visitorid'].iloc[i]] = key"
   ]
  },
  {
   "cell_type": "code",
   "execution_count": 20,
   "metadata": {},
   "outputs": [],
   "source": [
    "#list of unique items in category \n",
    "category_df=itemproperties.loc[itemproperties['property']=='categoryid'].groupby('value')['itemid'].unique().apply(list)\n",
    "category_df=pd.DataFrame(category_df)\n",
    "category_df=category_df.reset_index()\n",
    "category_df['categoryid']=category_df['value']\n",
    "category_df.drop('value',axis=1,inplace=True)\n",
    "category_df['items']=1\n",
    "for i in range(0,len(category_df.itemid)):\n",
    "    category_df.at[i,'items']=len(category_df.iloc[i,0])"
   ]
  },
  {
   "cell_type": "code",
   "execution_count": 55,
   "metadata": {},
   "outputs": [
    {
     "data": {
      "text/html": [
       "<div>\n",
       "<style scoped>\n",
       "    .dataframe tbody tr th:only-of-type {\n",
       "        vertical-align: middle;\n",
       "    }\n",
       "\n",
       "    .dataframe tbody tr th {\n",
       "        vertical-align: top;\n",
       "    }\n",
       "\n",
       "    .dataframe thead th {\n",
       "        text-align: right;\n",
       "    }\n",
       "</style>\n",
       "<table border=\"1\" class=\"dataframe\">\n",
       "  <thead>\n",
       "    <tr style=\"text-align: right;\">\n",
       "      <th></th>\n",
       "      <th>itemid</th>\n",
       "      <th>categoryid</th>\n",
       "      <th>items</th>\n",
       "    </tr>\n",
       "  </thead>\n",
       "  <tbody>\n",
       "    <tr>\n",
       "      <th>0</th>\n",
       "      <td>[1957, 207072, 347416, 458345, 167416, 123751,...</td>\n",
       "      <td>0</td>\n",
       "      <td>135</td>\n",
       "    </tr>\n",
       "    <tr>\n",
       "      <th>1</th>\n",
       "      <td>[390448, 465859, 211677, 304558, 31165, 25820,...</td>\n",
       "      <td>1</td>\n",
       "      <td>867</td>\n",
       "    </tr>\n",
       "    <tr>\n",
       "      <th>2</th>\n",
       "      <td>[245380, 449019, 26377, 96493]</td>\n",
       "      <td>10</td>\n",
       "      <td>4</td>\n",
       "    </tr>\n",
       "    <tr>\n",
       "      <th>3</th>\n",
       "      <td>[134781, 135974, 291251, 425166, 352564, 38543...</td>\n",
       "      <td>100</td>\n",
       "      <td>10</td>\n",
       "    </tr>\n",
       "    <tr>\n",
       "      <th>4</th>\n",
       "      <td>[269839, 100740, 449301]</td>\n",
       "      <td>1000</td>\n",
       "      <td>3</td>\n",
       "    </tr>\n",
       "  </tbody>\n",
       "</table>\n",
       "</div>"
      ],
      "text/plain": [
       "                                              itemid categoryid  items\n",
       "0  [1957, 207072, 347416, 458345, 167416, 123751,...          0    135\n",
       "1  [390448, 465859, 211677, 304558, 31165, 25820,...          1    867\n",
       "2                     [245380, 449019, 26377, 96493]         10      4\n",
       "3  [134781, 135974, 291251, 425166, 352564, 38543...        100     10\n",
       "4                           [269839, 100740, 449301]       1000      3"
      ]
     },
     "execution_count": 55,
     "metadata": {},
     "output_type": "execute_result"
    }
   ],
   "source": [
    "category_df.head()"
   ]
  },
  {
   "cell_type": "code",
   "execution_count": 23,
   "metadata": {},
   "outputs": [],
   "source": [
    "# list of items bought buy customer \n",
    "visitor_bought_df=events.loc[events['event']=='transaction'].groupby('visitorid')['itemid'].apply(list)\n",
    "visitor_bought_df=pd.DataFrame(visitor_bought_df)\n",
    "visitor_bought_df=visitor_bought_df.reset_index()\n",
    "visitor_bought_df['items']=1\n",
    "for i in range(0,len(visitor_bought_df.itemid)):\n",
    "    visitor_bought_df.at[i,'items']=len(visitor_bought_df.iloc[i,1])"
   ]
  },
  {
   "cell_type": "code",
   "execution_count": 70,
   "metadata": {
    "scrolled": true
   },
   "outputs": [
    {
     "data": {
      "text/html": [
       "<div>\n",
       "<style scoped>\n",
       "    .dataframe tbody tr th:only-of-type {\n",
       "        vertical-align: middle;\n",
       "    }\n",
       "\n",
       "    .dataframe tbody tr th {\n",
       "        vertical-align: top;\n",
       "    }\n",
       "\n",
       "    .dataframe thead th {\n",
       "        text-align: right;\n",
       "    }\n",
       "</style>\n",
       "<table border=\"1\" class=\"dataframe\">\n",
       "  <thead>\n",
       "    <tr style=\"text-align: right;\">\n",
       "      <th></th>\n",
       "      <th>visitorid</th>\n",
       "      <th>itemid</th>\n",
       "      <th>items</th>\n",
       "    </tr>\n",
       "  </thead>\n",
       "  <tbody>\n",
       "    <tr>\n",
       "      <th>0</th>\n",
       "      <td>172</td>\n",
       "      <td>[465522, 10034]</td>\n",
       "      <td>2</td>\n",
       "    </tr>\n",
       "    <tr>\n",
       "      <th>1</th>\n",
       "      <td>186</td>\n",
       "      <td>[49029]</td>\n",
       "      <td>1</td>\n",
       "    </tr>\n",
       "    <tr>\n",
       "      <th>2</th>\n",
       "      <td>264</td>\n",
       "      <td>[459835, 161949]</td>\n",
       "      <td>2</td>\n",
       "    </tr>\n",
       "    <tr>\n",
       "      <th>3</th>\n",
       "      <td>419</td>\n",
       "      <td>[19278]</td>\n",
       "      <td>1</td>\n",
       "    </tr>\n",
       "    <tr>\n",
       "      <th>4</th>\n",
       "      <td>539</td>\n",
       "      <td>[94371]</td>\n",
       "      <td>1</td>\n",
       "    </tr>\n",
       "    <tr>\n",
       "      <th>5</th>\n",
       "      <td>627</td>\n",
       "      <td>[414182]</td>\n",
       "      <td>1</td>\n",
       "    </tr>\n",
       "    <tr>\n",
       "      <th>6</th>\n",
       "      <td>795</td>\n",
       "      <td>[207825]</td>\n",
       "      <td>1</td>\n",
       "    </tr>\n",
       "    <tr>\n",
       "      <th>7</th>\n",
       "      <td>914</td>\n",
       "      <td>[382946]</td>\n",
       "      <td>1</td>\n",
       "    </tr>\n",
       "    <tr>\n",
       "      <th>8</th>\n",
       "      <td>964</td>\n",
       "      <td>[430113]</td>\n",
       "      <td>1</td>\n",
       "    </tr>\n",
       "    <tr>\n",
       "      <th>9</th>\n",
       "      <td>1032</td>\n",
       "      <td>[243949]</td>\n",
       "      <td>1</td>\n",
       "    </tr>\n",
       "  </tbody>\n",
       "</table>\n",
       "</div>"
      ],
      "text/plain": [
       "   visitorid            itemid  items\n",
       "0        172   [465522, 10034]      2\n",
       "1        186           [49029]      1\n",
       "2        264  [459835, 161949]      2\n",
       "3        419           [19278]      1\n",
       "4        539           [94371]      1\n",
       "5        627          [414182]      1\n",
       "6        795          [207825]      1\n",
       "7        914          [382946]      1\n",
       "8        964          [430113]      1\n",
       "9       1032          [243949]      1"
      ]
     },
     "execution_count": 70,
     "metadata": {},
     "output_type": "execute_result"
    }
   ],
   "source": [
    "visitor_bought_df.head(10)"
   ]
  },
  {
   "cell_type": "code",
   "execution_count": 69,
   "metadata": {},
   "outputs": [
    {
     "data": {
      "text/plain": [
       "{'also_bought': [73123, 282820, 90660, 409804, 328476],\n",
       " 'same_category': [59395,\n",
       "  329732,\n",
       "  16390,\n",
       "  428044,\n",
       "  73741,\n",
       "  378900,\n",
       "  333846,\n",
       "  147479,\n",
       "  337951,\n",
       "  10271,\n",
       "  321567,\n",
       "  241703,\n",
       "  356396,\n",
       "  217132,\n",
       "  131119,\n",
       "  389172,\n",
       "  49205,\n",
       "  346168,\n",
       "  309305,\n",
       "  124994,\n",
       "  258116,\n",
       "  90191,\n",
       "  307286,\n",
       "  440413,\n",
       "  327777,\n",
       "  421987,\n",
       "  374883,\n",
       "  456820,\n",
       "  417912,\n",
       "  190590,\n",
       "  340094,\n",
       "  252034,\n",
       "  307331,\n",
       "  305286,\n",
       "  225418,\n",
       "  327820,\n",
       "  170126,\n",
       "  321681,\n",
       "  80017,\n",
       "  354453,\n",
       "  340122,\n",
       "  327838,\n",
       "  55455,\n",
       "  118945,\n",
       "  135329,\n",
       "  383137,\n",
       "  22692,\n",
       "  135338,\n",
       "  415932,\n",
       "  82109,\n",
       "  417981,\n",
       "  420030,\n",
       "  168146,\n",
       "  428246,\n",
       "  4312,\n",
       "  178392,\n",
       "  338138,\n",
       "  405728,\n",
       "  135393,\n",
       "  162019,\n",
       "  121067,\n",
       "  59628,\n",
       "  12525,\n",
       "  327929,\n",
       "  67834,\n",
       "  137471,\n",
       "  323846,\n",
       "  98567,\n",
       "  24842,\n",
       "  221453,\n",
       "  403729,\n",
       "  246033,\n",
       "  139539,\n",
       "  286995,\n",
       "  344339,\n",
       "  84245,\n",
       "  248087,\n",
       "  22809,\n",
       "  174366,\n",
       "  229662,\n",
       "  31008,\n",
       "  20768,\n",
       "  166182,\n",
       "  147765,\n",
       "  323894,\n",
       "  442678,\n",
       "  170296,\n",
       "  137529,\n",
       "  221499,\n",
       "  295229,\n",
       "  272709,\n",
       "  92488,\n",
       "  461138,\n",
       "  237907,\n",
       "  237916,\n",
       "  180578,\n",
       "  215406,\n",
       "  141679,\n",
       "  270706,\n",
       "  172405,\n",
       "  24958,\n",
       "  297346,\n",
       "  223622,\n",
       "  33162,\n",
       "  360845,\n",
       "  418190,\n",
       "  49549,\n",
       "  373136,\n",
       "  94613,\n",
       "  412068,\n",
       "  315816,\n",
       "  367018,\n",
       "  385453,\n",
       "  55726,\n",
       "  151988,\n",
       "  295356,\n",
       "  336320,\n",
       "  106951,\n",
       "  367048,\n",
       "  47560,\n",
       "  217546,\n",
       "  381387,\n",
       "  109006,\n",
       "  309711,\n",
       "  12755,\n",
       "  238036,\n",
       "  172509,\n",
       "  66014,\n",
       "  258527,\n",
       "  305631,\n",
       "  121316,\n",
       "  25060,\n",
       "  57830,\n",
       "  340454,\n",
       "  186853,\n",
       "  135658,\n",
       "  242159,\n",
       "  104943,\n",
       "  37361,\n",
       "  141810,\n",
       "  96756,\n",
       "  23033,\n",
       "  401913,\n",
       "  270843,\n",
       "  418302,\n",
       "  47616,\n",
       "  311809,\n",
       "  268809,\n",
       "  121354,\n",
       "  94736,\n",
       "  393745,\n",
       "  135698,\n",
       "  229906,\n",
       "  127514,\n",
       "  340508,\n",
       "  426526,\n",
       "  219686,\n",
       "  14889,\n",
       "  453162,\n",
       "  217642,\n",
       "  154156,\n",
       "  356909,\n",
       "  309801,\n",
       "  365107,\n",
       "  76341,\n",
       "  264764,\n",
       "  16958,\n",
       "  29246,\n",
       "  254528,\n",
       "  305731,\n",
       "  342599,\n",
       "  358986,\n",
       "  459338,\n",
       "  107089,\n",
       "  31315,\n",
       "  211540,\n",
       "  377442,\n",
       "  342629,\n",
       "  47721,\n",
       "  23145,\n",
       "  289385,\n",
       "  281195,\n",
       "  266865,\n",
       "  55926,\n",
       "  307834,\n",
       "  252539,\n",
       "  418428,\n",
       "  84604,\n",
       "  135812,\n",
       "  465548,\n",
       "  387729,\n",
       "  320147,\n",
       "  443030,\n",
       "  64154,\n",
       "  174747,\n",
       "  209567,\n",
       "  78496,\n",
       "  15008,\n",
       "  371361,\n",
       "  346790,\n",
       "  461483,\n",
       "  416429,\n",
       "  336559,\n",
       "  344755,\n",
       "  305844,\n",
       "  86709,\n",
       "  228025,\n",
       "  55994,\n",
       "  219834,\n",
       "  58044,\n",
       "  64187,\n",
       "  234180,\n",
       "  209605,\n",
       "  152262,\n",
       "  432837,\n",
       "  352967,\n",
       "  148165,\n",
       "  330443,\n",
       "  174796,\n",
       "  117452,\n",
       "  176849,\n",
       "  373463,\n",
       "  463577,\n",
       "  395994,\n",
       "  60122,\n",
       "  156382,\n",
       "  277216,\n",
       "  185060,\n",
       "  279272,\n",
       "  254706,\n",
       "  414456,\n",
       "  258817,\n",
       "  404231,\n",
       "  201482,\n",
       "  121612,\n",
       "  82702,\n",
       "  283416,\n",
       "  66330,\n",
       "  248605,\n",
       "  232222,\n",
       "  273183,\n",
       "  291625,\n",
       "  152365,\n",
       "  320302,\n",
       "  385839,\n",
       "  11056,\n",
       "  416557,\n",
       "  140082,\n",
       "  45877,\n",
       "  821,\n",
       "  332603,\n",
       "  303934,\n",
       "  365374,\n",
       "  121662,\n",
       "  60229,\n",
       "  90951,\n",
       "  142152,\n",
       "  277320,\n",
       "  426825,\n",
       "  140104,\n",
       "  430924,\n",
       "  451402,\n",
       "  455495,\n",
       "  269142,\n",
       "  287581,\n",
       "  195427,\n",
       "  396135,\n",
       "  428907,\n",
       "  166766,\n",
       "  353137,\n",
       "  97138,\n",
       "  21367,\n",
       "  303993,\n",
       "  308093,\n",
       "  252797,\n",
       "  430974,\n",
       "  412547,\n",
       "  119686,\n",
       "  64391,\n",
       "  332680,\n",
       "  13202,\n",
       "  349080,\n",
       "  240537,\n",
       "  261018,\n",
       "  246682,\n",
       "  45987,\n",
       "  377765,\n",
       "  132007,\n",
       "  37804,\n",
       "  17325,\n",
       "  56238,\n",
       "  306093,\n",
       "  148400,\n",
       "  400304,\n",
       "  68529,\n",
       "  443315,\n",
       "  181172,\n",
       "  455617,\n",
       "  197570,\n",
       "  308163,\n",
       "  125893,\n",
       "  144327,\n",
       "  377801,\n",
       "  357321,\n",
       "  60370,\n",
       "  3026,\n",
       "  406484,\n",
       "  156626,\n",
       "  359378,\n",
       "  140251,\n",
       "  84956,\n",
       "  78816,\n",
       "  185315,\n",
       "  383973,\n",
       "  15335,\n",
       "  254954,\n",
       "  224239,\n",
       "  306159,\n",
       "  127986,\n",
       "  164853,\n",
       "  238583,\n",
       "  242681,\n",
       "  48122,\n",
       "  252930,\n",
       "  107526,\n",
       "  375820,\n",
       "  177172,\n",
       "  95257,\n",
       "  21529,\n",
       "  74780,\n",
       "  433180,\n",
       "  44069,\n",
       "  181288,\n",
       "  431145,\n",
       "  236587,\n",
       "  455737,\n",
       "  179258,\n",
       "  177211,\n",
       "  433213,\n",
       "  78911,\n",
       "  433216,\n",
       "  121924,\n",
       "  121930,\n",
       "  115788,\n",
       "  31820,\n",
       "  445517,\n",
       "  441423,\n",
       "  341073,\n",
       "  134227,\n",
       "  377941,\n",
       "  412762,\n",
       "  310362,\n",
       "  275553,\n",
       "  3169,\n",
       "  216165,\n",
       "  60518,\n",
       "  220271,\n",
       "  312434,\n",
       "  56436,\n",
       "  427126,\n",
       "  91256,\n",
       "  441464,\n",
       "  416894,\n",
       "  177279,\n",
       "  44159,\n",
       "  455809,\n",
       "  81025,\n",
       "  167045,\n",
       "  208009,\n",
       "  320650,\n",
       "  58510,\n",
       "  435345,\n",
       "  412826,\n",
       "  130202,\n",
       "  275617,\n",
       "  195750,\n",
       "  85161,\n",
       "  128174,\n",
       "  310447,\n",
       "  156850,\n",
       "  251059,\n",
       "  124088,\n",
       "  210105,\n",
       "  74942,\n",
       "  419008,\n",
       "  308419,\n",
       "  19654,\n",
       "  343238,\n",
       "  183496,\n",
       "  253131,\n",
       "  148683,\n",
       "  111820,\n",
       "  50383,\n",
       "  466128,\n",
       "  13526,\n",
       "  347352,\n",
       "  367834,\n",
       "  142561,\n",
       "  17633,\n",
       "  341222,\n",
       "  34034,\n",
       "  408819,\n",
       "  122102,\n",
       "  70906,\n",
       "  46332,\n",
       "  429315,\n",
       "  222470,\n",
       "  333063,\n",
       "  255240,\n",
       "  72969,\n",
       "  66825,\n",
       "  441608,\n",
       "  107794,\n",
       "  263446,\n",
       "  7447,\n",
       "  144664,\n",
       "  167196,\n",
       "  81181,\n",
       "  376101,\n",
       "  378151,\n",
       "  349482,\n",
       "  118062,\n",
       "  154926,\n",
       "  44335,\n",
       "  208175,\n",
       "  281904,\n",
       "  148790,\n",
       "  400695,\n",
       "  105782,\n",
       "  220473,\n",
       "  173378,\n",
       "  251204,\n",
       "  23877,\n",
       "  273734,\n",
       "  46411,\n",
       "  83276,\n",
       "  56655,\n",
       "  372048,\n",
       "  68945,\n",
       "  265557,\n",
       "  333142,\n",
       "  23894,\n",
       "  134488,\n",
       "  300377,\n",
       "  171355,\n",
       "  110585,\n",
       "  191842,\n",
       "  445795,\n",
       "  9572,\n",
       "  410983,\n",
       "  52586,\n",
       "  324976,\n",
       "  425330,\n",
       "  460147,\n",
       "  56695,\n",
       "  3450,\n",
       "  286074,\n",
       "  232831,\n",
       "  249215,\n",
       "  437634,\n",
       "  318852,\n",
       "  390534,\n",
       "  271751,\n",
       "  378253,\n",
       "  105871,\n",
       "  384399,\n",
       "  341397,\n",
       "  169366,\n",
       "  284059,\n",
       "  437660,\n",
       "  228767,\n",
       "  296353,\n",
       "  236963,\n",
       "  400804,\n",
       "  210340,\n",
       "  187814,\n",
       "  165289,\n",
       "  58799,\n",
       "  130483,\n",
       "  454073,\n",
       "  142781,\n",
       "  169406,\n",
       "  204227,\n",
       "  114115,\n",
       "  335305,\n",
       "  142797,\n",
       "  69074,\n",
       "  208350,\n",
       "  56803,\n",
       "  290287,\n",
       "  273909,\n",
       "  239097,\n",
       "  341498,\n",
       "  437756,\n",
       "  15869,\n",
       "  7680,\n",
       "  376321,\n",
       "  189954,\n",
       "  257541,\n",
       "  105989,\n",
       "  415241,\n",
       "  359946,\n",
       "  380427,\n",
       "  431625,\n",
       "  456204,\n",
       "  9743,\n",
       "  198169,\n",
       "  187930,\n",
       "  296478,\n",
       "  232990,\n",
       "  30241,\n",
       "  462370,\n",
       "  134694,\n",
       "  359976,\n",
       "  261673,\n",
       "  448041,\n",
       "  75307,\n",
       "  48688,\n",
       "  230962,\n",
       "  138803,\n",
       "  56886,\n",
       "  353848,\n",
       "  319033,\n",
       "  140859,\n",
       "  429627,\n",
       "  85569,\n",
       "  304707,\n",
       "  396870,\n",
       "  351817,\n",
       "  106059,\n",
       "  208462,\n",
       "  91732,\n",
       "  271960,\n",
       "  79451,\n",
       "  34395,\n",
       "  251485,\n",
       "  366180,\n",
       "  24164,\n",
       "  61030,\n",
       "  210537,\n",
       "  362092,\n",
       "  329327,\n",
       "  222834,\n",
       "  226939,\n",
       "  228988,\n",
       "  286332,\n",
       "  448126,\n",
       "  61062,\n",
       "  159372,\n",
       "  116368,\n",
       "  136851,\n",
       "  450200,\n",
       "  118425,\n",
       "  450203,\n",
       "  259741,\n",
       "  290464,\n",
       "  312993,\n",
       "  69281,\n",
       "  421540,\n",
       "  3750,\n",
       "  435878,\n",
       "  290475,\n",
       "  403116,\n",
       "  327341,\n",
       "  63149,\n",
       "  374447,\n",
       "  439984,\n",
       "  421553,\n",
       "  220844,\n",
       "  204469,\n",
       "  175800,\n",
       "  169658,\n",
       "  143035,\n",
       "  382652,\n",
       "  259775,\n",
       "  247492,\n",
       "  28363,\n",
       "  378574,\n",
       "  206542,\n",
       "  30414,\n",
       "  77519,\n",
       "  349903,\n",
       "  296659,\n",
       "  407252,\n",
       "  79575,\n",
       "  91864,\n",
       "  253658,\n",
       "  358109,\n",
       "  59103,\n",
       "  241376,\n",
       "  448227,\n",
       "  28389,\n",
       "  290542,\n",
       "  143087,\n",
       "  251631,\n",
       "  186094,\n",
       "  349939,\n",
       "  388852,\n",
       "  59130,\n",
       "  243452,\n",
       "  233214,\n",
       "  12035,\n",
       "  405256,\n",
       "  442120,\n",
       "  454410,\n",
       "  220939,\n",
       "  419596,\n",
       "  163595,\n",
       "  89870,\n",
       "  98058,\n",
       "  145172,\n",
       "  419605,\n",
       "  388884,\n",
       "  251672,\n",
       "  120614,\n",
       "  442151,\n",
       "  216876,\n",
       "  177964,\n",
       "  313135,\n",
       "  296754,\n",
       "  343859,\n",
       "  311092,\n",
       "  317240,\n",
       "  360249,\n",
       "  294719,\n",
       "  204611,\n",
       "  216901,\n",
       "  106310,\n",
       "  231239,\n",
       "  120651,\n",
       "  290639,\n",
       "  200530,\n",
       "  126808,\n",
       "  415578,\n",
       "  89951,\n",
       "  38757,\n",
       "  53094,\n",
       "  450405,\n",
       "  147304,\n",
       "  132969,\n",
       "  26488,\n",
       "  30584,\n",
       "  358268,\n",
       "  243583,\n",
       "  249733,\n",
       "  112517,\n",
       "  425867,\n",
       "  204689,\n",
       "  42900,\n",
       "  112534,\n",
       "  286615,\n",
       "  49051,\n",
       "  155548,\n",
       "  438173,\n",
       "  417697,\n",
       "  348069,\n",
       "  63398,\n",
       "  251814,\n",
       "  444329,\n",
       "  20396,\n",
       "  401325,\n",
       "  28590,\n",
       "  407474,\n",
       "  120758,\n",
       "  298938,\n",
       "  223169,\n",
       "  77765,\n",
       "  321479,\n",
       "  251850,\n",
       "  190410,\n",
       "  176080,\n",
       "  6099,\n",
       "  120791,\n",
       "  364510,\n",
       "  208862,\n",
       "  155617,\n",
       "  85988,\n",
       "  36838,\n",
       "  83948,\n",
       "  108526,\n",
       "  284663,\n",
       "  81912,\n",
       "  122873,\n",
       "  382974]}"
      ]
     },
     "execution_count": 69,
     "metadata": {},
     "output_type": "execute_result"
    }
   ],
   "source": [
    "recommenditems(312728)"
   ]
  },
  {
   "cell_type": "code",
   "execution_count": 73,
   "metadata": {},
   "outputs": [
    {
     "data": {
      "text/plain": [
       "2733644"
      ]
     },
     "execution_count": 73,
     "metadata": {},
     "output_type": "execute_result"
    }
   ],
   "source": [
    "events.transactionid.isna().sum()"
   ]
  },
  {
   "cell_type": "code",
   "execution_count": 74,
   "metadata": {},
   "outputs": [
    {
     "data": {
      "text/plain": [
       "(2756101, 5)"
      ]
     },
     "execution_count": 74,
     "metadata": {},
     "output_type": "execute_result"
    }
   ],
   "source": [
    "events.shape"
   ]
  },
  {
   "cell_type": "code",
   "execution_count": 75,
   "metadata": {},
   "outputs": [
    {
     "data": {
      "text/plain": [
       "22457"
      ]
     },
     "execution_count": 75,
     "metadata": {},
     "output_type": "execute_result"
    }
   ],
   "source": [
    "2756101-2733644"
   ]
  },
  {
   "cell_type": "markdown",
   "metadata": {},
   "source": [
    "### Modeling"
   ]
  },
  {
   "cell_type": "code",
   "execution_count": 145,
   "metadata": {},
   "outputs": [],
   "source": [
    "from lightfm import LightFM\n",
    "from lightfm.evaluation import auc_score, precision_at_k\n",
    "from sklearn import preprocessing\n",
    "from sklearn.model_selection import train_test_split\n",
    "from sklearn import preprocessing\n",
    "from scipy.sparse import csr_matrix \n",
    "from scipy.sparse import coo_matrix"
   ]
  },
  {
   "cell_type": "code",
   "execution_count": null,
   "metadata": {},
   "outputs": [],
   "source": [
    "\n",
    "\n",
    "\n",
    "def objective(params):\n",
    "    # unpack\n",
    "    epochs, learning_rate, no_components = params\n",
    "\n",
    "    model = LightFM(loss='warp',\n",
    "                    random_state=2016,\n",
    "                    learning_rate=learning_rate,\n",
    "                    no_components=no_components)\n",
    "    model.fit(train, epochs=epochs,\n",
    "              num_threads=4, verbose=True)\n",
    "\n",
    "    patks = auc_score(model, test, num_threads=4)\n",
    "    maptk = np.mean(patks)\n",
    "    # Make negative because we want to _minimize_ objective\n",
    "    out = -maptk\n",
    "    # Handle some weird numerical shit going on\n",
    "    if np.abs(out + 1) < 0.01 or out < -1.0:\n",
    "        return 0.0\n",
    "    else:\n",
    "        return out\n",
    "\n",
    "\n",
    "\n",
    "space = [(1, 40), # epochs\n",
    "         (10**-4, 0.5, 'log-uniform'), # learning_rate\n",
    "         (20, 200), # no_components\n",
    "        ]\n",
    "\n",
    "res_fm = forest_minimize(objective, space, n_calls=20,\n",
    "                     random_state=0,\n",
    "                     verbose=True)\n",
    "print('Maximimum auc found: {:6.5f}'.format(-res_fm.fun))\n",
    "print('Optimal parameters:')\n",
    "params = ['epochs', 'learning_rate', 'no_components']\n",
    "for (p, x_) in zip(params, res_fm.x):\n",
    "    print('{}: {}'.format(p, x_))"
   ]
  },
  {
   "cell_type": "code",
   "execution_count": 68,
   "metadata": {},
   "outputs": [],
   "source": [
    "events=events[events['event']!='view']\n",
    "events['rating'] = np.where(events['event']=='transaction', 1, 0)"
   ]
  },
  {
   "cell_type": "code",
   "execution_count": 69,
   "metadata": {},
   "outputs": [],
   "source": [
    "event_trans=events[['visitorid','itemid','rating']]"
   ]
  },
  {
   "cell_type": "code",
   "execution_count": 70,
   "metadata": {},
   "outputs": [],
   "source": [
    "event_train, event_test=train_test_split(event_trans,test_size=0.3)"
   ]
  },
  {
   "cell_type": "code",
   "execution_count": 71,
   "metadata": {},
   "outputs": [],
   "source": [
    "event_test=event_test[(event_test['visitorid'].isin(event_train['visitorid'])) & (event_test['itemid'].isin(event_train['itemid']))]"
   ]
  },
  {
   "cell_type": "code",
   "execution_count": 72,
   "metadata": {},
   "outputs": [],
   "source": [
    "id_cols=['visitorid','itemid']\n",
    "trans_cat_train=dict()\n",
    "trans_cat_test=dict()\n",
    "\n",
    "for k in id_cols:\n",
    "    cate_enc=preprocessing.LabelEncoder()\n",
    "    trans_cat_train[k]=cate_enc.fit_transform(event_train[k].values)\n",
    "    trans_cat_test[k]=cate_enc.transform(event_test[k].values)"
   ]
  },
  {
   "cell_type": "code",
   "execution_count": 104,
   "metadata": {},
   "outputs": [],
   "source": [
    "ratings['train'] = event_train['rating']\n",
    "ratings['test'] = event_test['rating']\n",
    "n_users=len(np.unique(trans_cat_train['visitorid']))\n",
    "n_items=len(np.unique(trans_cat_train['itemid']))"
   ]
  },
  {
   "cell_type": "code",
   "execution_count": 106,
   "metadata": {},
   "outputs": [],
   "source": [
    "rate_matrix = dict()\n",
    "rate_matrix['train'] = coo_matrix((ratings['train'], (trans_cat_train['visitorid'], trans_cat_train['itemid'])), shape=(n_users,n_items))\n",
    "rate_matrix['test'] = coo_matrix((ratings['test'], (trans_cat_test['visitorid'], trans_cat_test['itemid'])), shape=(n_users,n_items))\n",
    "    "
   ]
  },
  {
   "cell_type": "code",
   "execution_count": 86,
   "metadata": {},
   "outputs": [
    {
     "data": {
      "text/plain": [
       "(31032, 21076)"
      ]
     },
     "execution_count": 86,
     "metadata": {},
     "output_type": "execute_result"
    }
   ],
   "source": [
    "rate_matrix['train'].toarray().shape"
   ]
  },
  {
   "cell_type": "code",
   "execution_count": 132,
   "metadata": {},
   "outputs": [
    {
     "data": {
      "text/plain": [
       "<lightfm.lightfm.LightFM at 0x2c9f1daa160>"
      ]
     },
     "execution_count": 132,
     "metadata": {},
     "output_type": "execute_result"
    }
   ],
   "source": [
    "model = LightFM(no_components=2, loss='bpr')\n",
    "model.fit(rate_matrix['train'], epochs=150, num_threads=8)"
   ]
  },
  {
   "cell_type": "code",
   "execution_count": 144,
   "metadata": {},
   "outputs": [],
   "source": [
    "count=0\n",
    "iteration=[]\n",
    "auc=[]\n",
    "for components in [2,4,10,110]:\n",
    "    for loss in ['logistic', 'bpr', 'warp', 'warp-kos']:\n",
    "        for lr in [0.03,0.1,0.4]:\n",
    "            model = LightFM(no_components=components, loss=loss, learning_rate=lr)\n",
    "            model.fit(rate_matrix['train'], epochs=10, num_threads=8)\n",
    "            score=auc_score(model, rate_matrix['train'], num_threads=8).mean()\n",
    "            auc.append(score)\n",
    "            iteration.append(count)\n",
    "            count+=1       "
   ]
  },
  {
   "cell_type": "code",
   "execution_count": 148,
   "metadata": {},
   "outputs": [
    {
     "data": {
      "text/plain": [
       "46"
      ]
     },
     "execution_count": 148,
     "metadata": {},
     "output_type": "execute_result"
    }
   ],
   "source": [
    "auc.index(max(auc))"
   ]
  },
  {
   "cell_type": "code",
   "execution_count": 151,
   "metadata": {},
   "outputs": [],
   "source": [
    "count=0\n",
    "best_estimator=[]\n",
    "for components in [2,4,10,110]:\n",
    "    for loss in ['logistic', 'bpr', 'warp', 'warp-kos']:\n",
    "        for lr in [0.03,0.1,0.4]:\n",
    "            if count==46:\n",
    "                best_estimator.append(components)\n",
    "                best_estimator.append(loss)\n",
    "                best_estimator.append(lr)\n",
    "                break\n",
    "            count+=1\n",
    "            "
   ]
  },
  {
   "cell_type": "code",
   "execution_count": 153,
   "metadata": {},
   "outputs": [
    {
     "name": "stdout",
     "output_type": "stream",
     "text": [
      "n_components : 110\n",
      "loss_function : warp-kos\n",
      "Learning rate : 0.1\n"
     ]
    }
   ],
   "source": [
    "print ('n_components :', best_estimator[0])\n",
    "print ('loss_function :',best_estimator[1])\n",
    "print ('Learning rate :',best_estimator[2])"
   ]
  },
  {
   "cell_type": "code",
   "execution_count": null,
   "metadata": {},
   "outputs": [],
   "source": []
  },
  {
   "cell_type": "code",
   "execution_count": 141,
   "metadata": {},
   "outputs": [
    {
     "data": {
      "text/plain": [
       "0.5622569"
      ]
     },
     "execution_count": 141,
     "metadata": {},
     "output_type": "execute_result"
    }
   ],
   "source": [
    "auc_score(model, rate_matrix['train'], num_threads=8).mean()"
   ]
  },
  {
   "cell_type": "code",
   "execution_count": 113,
   "metadata": {},
   "outputs": [
    {
     "data": {
      "text/plain": [
       "0.61679024"
      ]
     },
     "execution_count": 113,
     "metadata": {},
     "output_type": "execute_result"
    }
   ],
   "source": [
    "auc_score(model, rate_matrix['test'], num_threads=8).mean()"
   ]
  },
  {
   "cell_type": "code",
   "execution_count": 140,
   "metadata": {},
   "outputs": [
    {
     "data": {
      "text/plain": [
       "0.0026424336"
      ]
     },
     "execution_count": 140,
     "metadata": {},
     "output_type": "execute_result"
    }
   ],
   "source": [
    "precision_at_k(model,rate_matrix['train'],k=1).mean()"
   ]
  },
  {
   "cell_type": "code",
   "execution_count": 154,
   "metadata": {},
   "outputs": [
    {
     "data": {
      "text/plain": [
       "<lightfm.lightfm.LightFM at 0x2c9f1d7b160>"
      ]
     },
     "execution_count": 154,
     "metadata": {},
     "output_type": "execute_result"
    }
   ],
   "source": [
    "#traditional collaborative filtering matrix factorization method\n",
    "model_best = LightFM(no_components=110, loss='warp-kos')\n",
    "model_best.fit(rate_matrix['train'], epochs=10, num_threads=8)"
   ]
  },
  {
   "cell_type": "code",
   "execution_count": 155,
   "metadata": {},
   "outputs": [
    {
     "data": {
      "text/plain": [
       "0.9984754"
      ]
     },
     "execution_count": 155,
     "metadata": {},
     "output_type": "execute_result"
    }
   ],
   "source": [
    "auc_score(model_best, rate_matrix['train'], num_threads=8).mean()"
   ]
  },
  {
   "cell_type": "code",
   "execution_count": 156,
   "metadata": {},
   "outputs": [
    {
     "data": {
      "text/plain": [
       "0.900335"
      ]
     },
     "execution_count": 156,
     "metadata": {},
     "output_type": "execute_result"
    }
   ],
   "source": [
    "auc_score(model_best, rate_matrix['test'], num_threads=8).mean()"
   ]
  },
  {
   "cell_type": "code",
   "execution_count": 163,
   "metadata": {},
   "outputs": [
    {
     "data": {
      "text/plain": [
       "(31032,)"
      ]
     },
     "execution_count": 163,
     "metadata": {},
     "output_type": "execute_result"
    }
   ],
   "source": [
    "precision_at_k(model_best,rate_matrix['train'],k=2).shape"
   ]
  },
  {
   "cell_type": "code",
   "execution_count": 160,
   "metadata": {},
   "outputs": [
    {
     "data": {
      "text/plain": [
       "0.2918725"
      ]
     },
     "execution_count": 160,
     "metadata": {},
     "output_type": "execute_result"
    }
   ],
   "source": [
    "precision_at_k(model_best,rate_matrix['test'],k=2).mean()"
   ]
  },
  {
   "cell_type": "code",
   "execution_count": null,
   "metadata": {},
   "outputs": [],
   "source": []
  }
 ],
 "metadata": {
  "kernelspec": {
   "display_name": "Python 3",
   "language": "python",
   "name": "python3"
  },
  "language_info": {
   "codemirror_mode": {
    "name": "ipython",
    "version": 3
   },
   "file_extension": ".py",
   "mimetype": "text/x-python",
   "name": "python",
   "nbconvert_exporter": "python",
   "pygments_lexer": "ipython3",
   "version": "3.7.4"
  },
  "varInspector": {
   "cols": {
    "lenName": 16,
    "lenType": 16,
    "lenVar": 40
   },
   "kernels_config": {
    "python": {
     "delete_cmd_postfix": "",
     "delete_cmd_prefix": "del ",
     "library": "var_list.py",
     "varRefreshCmd": "print(var_dic_list())"
    },
    "r": {
     "delete_cmd_postfix": ") ",
     "delete_cmd_prefix": "rm(",
     "library": "var_list.r",
     "varRefreshCmd": "cat(var_dic_list()) "
    }
   },
   "types_to_exclude": [
    "module",
    "function",
    "builtin_function_or_method",
    "instance",
    "_Feature"
   ],
   "window_display": false
  }
 },
 "nbformat": 4,
 "nbformat_minor": 2
}
